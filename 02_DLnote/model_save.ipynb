{
 "cells": [
  {
   "cell_type": "code",
   "execution_count": null,
   "id": "7a62e947",
   "metadata": {},
   "outputs": [],
   "source": [
    "import torch \n",
    "\n",
    "torch.save(model.state_dict(), path + '\\\\' + f'{save_name}.pth')\n",
    "\n",
    "torch.load(\"경로\", weights_only=true)"
   ]
  }
 ],
 "metadata": {
  "language_info": {
   "name": "python"
  }
 },
 "nbformat": 4,
 "nbformat_minor": 5
}
