{
 "cells": [
  {
   "cell_type": "markdown",
   "id": "fc4b5e25",
   "metadata": {},
   "source": [
    "### 12. API 통신"
   ]
  },
  {
   "cell_type": "markdown",
   "id": "214d2f30",
   "metadata": {},
   "source": [
    "#### 라이브러리 "
   ]
  },
  {
   "cell_type": "code",
   "execution_count": 3,
   "id": "3c98cbd0",
   "metadata": {},
   "outputs": [],
   "source": [
    "import numpy as np\n",
    "import pandas as pd\n",
    "import json\n",
    "import urllib\n",
    "import requests"
   ]
  },
  {
   "cell_type": "code",
   "execution_count": null,
   "id": "7bd4a4c7",
   "metadata": {},
   "outputs": [],
   "source": [
    "# !pip install lxml\n",
    "# !pip install html5lib"
   ]
  },
  {
   "cell_type": "markdown",
   "id": "d508ef30",
   "metadata": {},
   "source": [
    "#### pandas를 이용한 간단한 통신과 json 형식 다루기."
   ]
  },
  {
   "cell_type": "code",
   "execution_count": 1,
   "id": "bbbd2d35",
   "metadata": {},
   "outputs": [
    {
     "name": "stdout",
     "output_type": "stream",
     "text": [
      "(30, 5)\n",
      "<class 'pandas.core.frame.DataFrame'>\n",
      "RangeIndex: 30 entries, 0 to 29\n",
      "Data columns (total 5 columns):\n",
      " #   Column  Non-Null Count  Dtype \n",
      "---  ------  --------------  ----- \n",
      " 0   그레고리력   30 non-null     object\n",
      " 1   음력      30 non-null     object\n",
      " 2   음력간지    30 non-null     object\n",
      " 3   요일      30 non-null     object\n",
      " 4   율리우스력   30 non-null     object\n",
      "dtypes: object(5)\n",
      "memory usage: 1.3+ KB\n",
      "None\n"
     ]
    },
    {
     "data": {
      "text/html": [
       "<div>\n",
       "<style scoped>\n",
       "    .dataframe tbody tr th:only-of-type {\n",
       "        vertical-align: middle;\n",
       "    }\n",
       "\n",
       "    .dataframe tbody tr th {\n",
       "        vertical-align: top;\n",
       "    }\n",
       "\n",
       "    .dataframe thead th {\n",
       "        text-align: right;\n",
       "    }\n",
       "</style>\n",
       "<table border=\"1\" class=\"dataframe\">\n",
       "  <thead>\n",
       "    <tr style=\"text-align: right;\">\n",
       "      <th></th>\n",
       "      <th>그레고리력</th>\n",
       "      <th>음력</th>\n",
       "      <th>음력간지</th>\n",
       "      <th>요일</th>\n",
       "      <th>율리우스력</th>\n",
       "    </tr>\n",
       "  </thead>\n",
       "  <tbody>\n",
       "    <tr>\n",
       "      <th>0</th>\n",
       "      <td>2025년 06월 01일</td>\n",
       "      <td>2025년 05월 06일</td>\n",
       "      <td>을사(乙巳)년 임오(壬午)월 신축(辛丑)일</td>\n",
       "      <td>일요일</td>\n",
       "      <td>2025년 05월 19일</td>\n",
       "    </tr>\n",
       "    <tr>\n",
       "      <th>1</th>\n",
       "      <td>2025년 06월 02일</td>\n",
       "      <td>2025년 05월 07일</td>\n",
       "      <td>을사(乙巳)년 임오(壬午)월 임인(壬寅)일</td>\n",
       "      <td>월요일</td>\n",
       "      <td>2025년 05월 20일</td>\n",
       "    </tr>\n",
       "    <tr>\n",
       "      <th>2</th>\n",
       "      <td>2025년 06월 03일</td>\n",
       "      <td>2025년 05월 08일</td>\n",
       "      <td>을사(乙巳)년 임오(壬午)월 계묘(癸卯)일</td>\n",
       "      <td>화요일</td>\n",
       "      <td>2025년 05월 21일</td>\n",
       "    </tr>\n",
       "    <tr>\n",
       "      <th>3</th>\n",
       "      <td>2025년 06월 04일</td>\n",
       "      <td>2025년 05월 09일</td>\n",
       "      <td>을사(乙巳)년 임오(壬午)월 갑진(甲辰)일</td>\n",
       "      <td>수요일</td>\n",
       "      <td>2025년 05월 22일</td>\n",
       "    </tr>\n",
       "    <tr>\n",
       "      <th>4</th>\n",
       "      <td>2025년 06월 05일</td>\n",
       "      <td>2025년 05월 10일</td>\n",
       "      <td>을사(乙巳)년 임오(壬午)월 을사(乙巳)일</td>\n",
       "      <td>목요일</td>\n",
       "      <td>2025년 05월 23일</td>\n",
       "    </tr>\n",
       "  </tbody>\n",
       "</table>\n",
       "</div>"
      ],
      "text/plain": [
       "           그레고리력             음력                     음력간지   요일          율리우스력\n",
       "0  2025년 06월 01일  2025년 05월 06일  을사(乙巳)년 임오(壬午)월 신축(辛丑)일  일요일  2025년 05월 19일\n",
       "1  2025년 06월 02일  2025년 05월 07일  을사(乙巳)년 임오(壬午)월 임인(壬寅)일  월요일  2025년 05월 20일\n",
       "2  2025년 06월 03일  2025년 05월 08일  을사(乙巳)년 임오(壬午)월 계묘(癸卯)일  화요일  2025년 05월 21일\n",
       "3  2025년 06월 04일  2025년 05월 09일  을사(乙巳)년 임오(壬午)월 갑진(甲辰)일  수요일  2025년 05월 22일\n",
       "4  2025년 06월 05일  2025년 05월 10일  을사(乙巳)년 임오(壬午)월 을사(乙巳)일  목요일  2025년 05월 23일"
      ]
     },
     "execution_count": 1,
     "metadata": {},
     "output_type": "execute_result"
    }
   ],
   "source": [
    "import pandas as pd\n",
    "\n",
    "# 한국천문 연구원 월 달력 자료\n",
    "tables = pd.read_html('https://astro.kasi.re.kr//life/pageView/5',encoding='utf-8') \n",
    "df_astro = tables[0]\n",
    "print(df_astro.shape)\n",
    "print(df_astro.info())\n",
    "df_astro.head()\n",
    "\n",
    "# df_krx = pd.read_html('http://kind.krx.co.kr/corpgeneral/corpList.do?method=download&searchType=13',encoding='cp949')[0]\n",
    "# df_krx['종목코드'] = df_krx['종목코드'].map('{:06d}'.format)\n",
    "# df_krx.sort_values(by='종목코드')\n",
    "# df_krx.head(10)"
   ]
  },
  {
   "cell_type": "code",
   "execution_count": 2,
   "id": "9415afe7",
   "metadata": {},
   "outputs": [],
   "source": [
    "import pandas as pd\n",
    "import json\n",
    "\n",
    "data = {'name': ['아이유', '김연아', '홍길동'], \n",
    "        'dept': ['CS', 'Math', 'Mgmt'],\n",
    "        'age': [25, 29, 30]}\n",
    "\n",
    "# dict => df \n",
    "df = pd.DataFrame(data)  \n",
    "\n",
    "with open('./data/csv_to_json.json', 'w', encoding='utf-8') as f:\n",
    "    df.to_json(f, force_ascii=False, orient='columns')"
   ]
  },
  {
   "cell_type": "markdown",
   "id": "47a13da3",
   "metadata": {},
   "source": [
    "#### urllib"
   ]
  },
  {
   "cell_type": "code",
   "execution_count": 3,
   "id": "5023bbfe",
   "metadata": {},
   "outputs": [],
   "source": [
    "import os\n",
    "import numpy as np\n",
    "import pandas as pd\n",
    "import json\n",
    "import urllib\n",
    "from urllib import request\n",
    "import requests\n",
    "\n"
   ]
  },
  {
   "cell_type": "code",
   "execution_count": 4,
   "id": "0df38a74",
   "metadata": {},
   "outputs": [
    {
     "name": "stdout",
     "output_type": "stream",
     "text": [
      "ready url : http://www.kobis.or.kr/kobisopenapi/webservice/rest/boxoffice/searchDailyBoxOfficeList.json?key=1a7bcecc9db1eb54ae22dd8b9c83a3a1&targetDt=20250605\n"
     ]
    }
   ],
   "source": [
    "# 서버 쪽에 http request 라이브러리를 통해서 해야함 요청 >> urllib 사용.\n",
    "# 영화진흥위원회 Open API를 호출하기를 위한 url\n",
    "# https://www.kobis.or.kr/kobisopenapi/homepg/main/main.do\n",
    "movie_url = 'http://www.kobis.or.kr/kobisopenapi/webservice/rest/boxoffice/searchDailyBoxOfficeList.json'\n",
    "# key 값과 targetDt\n",
    "key = '1a7bcecc9db1eb54ae22dd8b9c83a3a1'\n",
    "date = \"20250605\" \n",
    "query_string = f'?key={key}&targetDt={date}'\n",
    "last_url = movie_url + query_string\n",
    "\n",
    "print(f\"ready url : {last_url}\")"
   ]
  },
  {
   "cell_type": "code",
   "execution_count": 5,
   "id": "5b5f4c7e",
   "metadata": {},
   "outputs": [
    {
     "name": "stdout",
     "output_type": "stream",
     "text": [
      "<http.client.HTTPResponse object at 0x799c94b371f0>\n"
     ]
    }
   ],
   "source": [
    "# Url을 이용하여 api 호출\n",
    "result_obj = request.urlopen(last_url) \n",
    "# response\n",
    "print(result_obj) \n"
   ]
  },
  {
   "cell_type": "code",
   "execution_count": 6,
   "id": "a5c78295",
   "metadata": {},
   "outputs": [
    {
     "name": "stdout",
     "output_type": "stream",
     "text": [
      "{'boxOfficeResult': {'boxofficeType': '일별 박스오피스', 'showRange': '20250605~20250605', 'dailyBoxOfficeList': [{'rnum': '1', 'rank': '1', 'rankInten': '0', 'rankOldAndNew': 'OLD', 'movieCd': '20211791', 'movieNm': '하이파이브', 'openDt': '2025-05-30', 'salesAmt': '541611670', 'salesShare': '33.0', 'salesInten': '144132410', 'salesChange': '36.3', 'salesAcc': '6925116890', 'audiCnt': '61022', 'audiInten': '16508', 'audiChange': '37.1', 'audiAcc': '749750', 'scrnCnt': '1329', 'showCnt': '4720'}, {'rnum': '2', 'rank': '2', 'rankInten': '0', 'rankOldAndNew': 'OLD', 'movieCd': '20246489', 'movieNm': '미션 임파서블: 파이널 레코닝', 'openDt': '2025-05-17', 'salesAmt': '431517340', 'salesShare': '26.3', 'salesInten': '149157240', 'salesChange': '52.8', 'salesAcc': '27038124800', 'audiCnt': '45540', 'audiInten': '15562', 'audiChange': '51.9', 'audiAcc': '2743364', 'scrnCnt': '1298', 'showCnt': '3762'}, {'rnum': '3', 'rank': '3', 'rankInten': '0', 'rankOldAndNew': 'OLD', 'movieCd': '20254722', 'movieNm': '신명', 'openDt': '2025-06-02', 'salesAmt': '250368030', 'salesShare': '15.2', 'salesInten': '45898980', 'salesChange': '22.4', 'salesAcc': '1982319080', 'audiCnt': '27347', 'audiInten': '5121', 'audiChange': '23', 'audiAcc': '208052', 'scrnCnt': '628', 'showCnt': '1402'}, {'rnum': '4', 'rank': '4', 'rankInten': '0', 'rankOldAndNew': 'OLD', 'movieCd': '20231495', 'movieNm': '소주전쟁', 'openDt': '2025-05-30', 'salesAmt': '138512860', 'salesShare': '8.4', 'salesInten': '14662440', 'salesChange': '11.8', 'salesAcc': '2053017120', 'audiCnt': '15826', 'audiInten': '1705', 'audiChange': '12.1', 'audiAcc': '218574', 'scrnCnt': '819', 'showCnt': '2182'}, {'rnum': '5', 'rank': '5', 'rankInten': '0', 'rankOldAndNew': 'OLD', 'movieCd': '20247590', 'movieNm': '릴로 & 스티치', 'openDt': '2025-05-21', 'salesAmt': '68041270', 'salesShare': '4.1', 'salesInten': '21799570', 'salesChange': '47.1', 'salesAcc': '3725744800', 'audiCnt': '7515', 'audiInten': '2434', 'audiChange': '47.9', 'audiAcc': '395857', 'scrnCnt': '482', 'showCnt': '744'}, {'rnum': '6', 'rank': '6', 'rankInten': '0', 'rankOldAndNew': 'OLD', 'movieCd': '20254602', 'movieNm': '씨너스: 죄인들', 'openDt': '2025-05-28', 'salesAmt': '39759820', 'salesShare': '2.4', 'salesInten': '14816080', 'salesChange': '59.4', 'salesAcc': '597803180', 'audiCnt': '3456', 'audiInten': '1254', 'audiChange': '56.9', 'audiAcc': '52451', 'scrnCnt': '193', 'showCnt': '262'}, {'rnum': '7', 'rank': '7', 'rankInten': '6', 'rankOldAndNew': 'OLD', 'movieCd': '20253797', 'movieNm': '극장판 프로젝트 세카이 부서진 세카이와 전해지지 않는 미쿠의 노래', 'openDt': '2025-05-29', 'salesAmt': '24365800', 'salesShare': '1.5', 'salesInten': '17202600', 'salesChange': '240.2', 'salesAcc': '404582370', 'audiCnt': '2746', 'audiInten': '1980', 'audiChange': '258.5', 'audiAcc': '42556', 'scrnCnt': '134', 'showCnt': '230'}, {'rnum': '8', 'rank': '8', 'rankInten': '9', 'rankOldAndNew': 'OLD', 'movieCd': '20254525', 'movieNm': '기타맨', 'openDt': '2025-05-30', 'salesAmt': '15270800', 'salesShare': '0.9', 'salesInten': '11277300', 'salesChange': '282.4', 'salesAcc': '63848500', 'audiCnt': '1951', 'audiInten': '1407', 'audiChange': '258.6', 'audiAcc': '8038', 'scrnCnt': '53', 'showCnt': '66'}, {'rnum': '9', 'rank': '9', 'rankInten': '0', 'rankOldAndNew': 'NEW', 'movieCd': '20254805', 'movieNm': '단다단: 사안', 'openDt': ' ', 'salesAmt': '13531100', 'salesShare': '0.8', 'salesInten': '13531100', 'salesChange': '100', 'salesAcc': '13531100', 'audiCnt': '1419', 'audiInten': '1419', 'audiChange': '100', 'audiAcc': '1419', 'scrnCnt': '66', 'showCnt': '109'}, {'rnum': '10', 'rank': '10', 'rankInten': '1', 'rankOldAndNew': 'OLD', 'movieCd': '20254481', 'movieNm': '알사탕', 'openDt': ' ', 'salesAmt': '6560000', 'salesShare': '0.4', 'salesInten': '1875000', 'salesChange': '40', 'salesAcc': '233865000', 'audiCnt': '1312', 'audiInten': '375', 'audiChange': '40', 'audiAcc': '46771', 'scrnCnt': '174', 'showCnt': '242'}]}}\n"
     ]
    }
   ],
   "source": [
    "# 가져온 json 데이터를 dictionary로 \n",
    "result_json = result_obj.read()  \n",
    "result_dict = json.loads(result_json)  \n",
    "print(result_dict)"
   ]
  },
  {
   "cell_type": "code",
   "execution_count": 7,
   "id": "e551d2fb",
   "metadata": {},
   "outputs": [
    {
     "name": "stdout",
     "output_type": "stream",
     "text": [
      "['1', '2', '3', '4', '5', '6', '7', '8', '9', '10']\n",
      "['하이파이브', '미션 임파서블: 파이널 레코닝', '신명', '소주전쟁', '릴로 & 스티치', '씨너스: 죄인들', '극장판 프로젝트 세카이 부서진 세카이와 전해지지 않는 미쿠의 노래', '기타맨', '단다단: 사안', '알사탕']\n",
      "['541611670', '431517340', '250368030', '138512860', '68041270', '39759820', '24365800', '15270800', '13531100', '6560000']\n"
     ]
    },
    {
     "data": {
      "text/html": [
       "<div>\n",
       "<style scoped>\n",
       "    .dataframe tbody tr th:only-of-type {\n",
       "        vertical-align: middle;\n",
       "    }\n",
       "\n",
       "    .dataframe tbody tr th {\n",
       "        vertical-align: top;\n",
       "    }\n",
       "\n",
       "    .dataframe thead th {\n",
       "        text-align: right;\n",
       "    }\n",
       "</style>\n",
       "<table border=\"1\" class=\"dataframe\">\n",
       "  <thead>\n",
       "    <tr style=\"text-align: right;\">\n",
       "      <th></th>\n",
       "      <th>title</th>\n",
       "      <th>salesAmt</th>\n",
       "    </tr>\n",
       "    <tr>\n",
       "      <th>rank</th>\n",
       "      <th></th>\n",
       "      <th></th>\n",
       "    </tr>\n",
       "  </thead>\n",
       "  <tbody>\n",
       "    <tr>\n",
       "      <th>1</th>\n",
       "      <td>하이파이브</td>\n",
       "      <td>541611670</td>\n",
       "    </tr>\n",
       "    <tr>\n",
       "      <th>2</th>\n",
       "      <td>미션 임파서블: 파이널 레코닝</td>\n",
       "      <td>431517340</td>\n",
       "    </tr>\n",
       "    <tr>\n",
       "      <th>3</th>\n",
       "      <td>신명</td>\n",
       "      <td>250368030</td>\n",
       "    </tr>\n",
       "    <tr>\n",
       "      <th>4</th>\n",
       "      <td>소주전쟁</td>\n",
       "      <td>138512860</td>\n",
       "    </tr>\n",
       "    <tr>\n",
       "      <th>5</th>\n",
       "      <td>릴로 &amp; 스티치</td>\n",
       "      <td>68041270</td>\n",
       "    </tr>\n",
       "    <tr>\n",
       "      <th>6</th>\n",
       "      <td>씨너스: 죄인들</td>\n",
       "      <td>39759820</td>\n",
       "    </tr>\n",
       "    <tr>\n",
       "      <th>7</th>\n",
       "      <td>극장판 프로젝트 세카이 부서진 세카이와 전해지지 않는 미쿠의 노래</td>\n",
       "      <td>24365800</td>\n",
       "    </tr>\n",
       "    <tr>\n",
       "      <th>8</th>\n",
       "      <td>기타맨</td>\n",
       "      <td>15270800</td>\n",
       "    </tr>\n",
       "    <tr>\n",
       "      <th>9</th>\n",
       "      <td>단다단: 사안</td>\n",
       "      <td>13531100</td>\n",
       "    </tr>\n",
       "    <tr>\n",
       "      <th>10</th>\n",
       "      <td>알사탕</td>\n",
       "      <td>6560000</td>\n",
       "    </tr>\n",
       "  </tbody>\n",
       "</table>\n",
       "</div>"
      ],
      "text/plain": [
       "                                     title   salesAmt\n",
       "rank                                                 \n",
       "1                                    하이파이브  541611670\n",
       "2                         미션 임파서블: 파이널 레코닝  431517340\n",
       "3                                       신명  250368030\n",
       "4                                     소주전쟁  138512860\n",
       "5                                 릴로 & 스티치   68041270\n",
       "6                                 씨너스: 죄인들   39759820\n",
       "7     극장판 프로젝트 세카이 부서진 세카이와 전해지지 않는 미쿠의 노래   24365800\n",
       "8                                      기타맨   15270800\n",
       "9                                  단다단: 사안   13531100\n",
       "10                                     알사탕    6560000"
      ]
     },
     "execution_count": 7,
     "metadata": {},
     "output_type": "execute_result"
    }
   ],
   "source": [
    "rank_list = []  #\n",
    "title_list = []\n",
    "sales_list = []\n",
    "\n",
    "for info in result_dict['boxOfficeResult']['dailyBoxOfficeList']:\n",
    "    rank_list.append(info['rank'])\n",
    "    title_list.append(info['movieNm'])\n",
    "    sales_list.append(info['salesAmt'])\n",
    "# list 확인\n",
    "print(rank_list)\n",
    "print(title_list)\n",
    "print(sales_list)\n",
    "\n",
    "df = pd.DataFrame({\n",
    "    'rank': rank_list,\n",
    "    'title': title_list,\n",
    "    'salesAmt': sales_list\n",
    "})  \n",
    "\n",
    "df = df.set_index(keys='rank')\n",
    "df\n"
   ]
  },
  {
   "cell_type": "markdown",
   "id": "ce12e604",
   "metadata": {},
   "source": [
    "### requests "
   ]
  },
  {
   "cell_type": "code",
   "execution_count": 8,
   "id": "ed80e0ae",
   "metadata": {},
   "outputs": [
    {
     "data": {
      "text/plain": [
       "<Response [200]>"
      ]
     },
     "execution_count": 8,
     "metadata": {},
     "output_type": "execute_result"
    }
   ],
   "source": [
    "import requests\n",
    "\n",
    "url = 'https://www.python.org/search/?q=dict&submit='\n",
    "response = requests.get(url)\n",
    "response"
   ]
  },
  {
   "cell_type": "code",
   "execution_count": 9,
   "id": "9eadd5f8",
   "metadata": {},
   "outputs": [
    {
     "name": "stdout",
     "output_type": "stream",
     "text": [
      "https://www.python.org/search/\n"
     ]
    }
   ],
   "source": [
    "url = 'https://www.python.org/search'\n",
    "params = {\n",
    "    'q':'파이썬',\n",
    "    'submit':''\n",
    "}\n",
    "response = requests.get(url, params)\n",
    "print(response.url)\n"
   ]
  },
  {
   "cell_type": "code",
   "execution_count": 11,
   "id": "f0e043ff",
   "metadata": {},
   "outputs": [
    {
     "name": "stdout",
     "output_type": "stream",
     "text": [
      "https://m.naver.com\n"
     ]
    }
   ],
   "source": [
    "url = 'http://www.naver.com'\n",
    "#url = 'http://www.daum.net'\n",
    "headers = {\n",
    "    'user-agent': 'Mozilla/5.0 (Linux; Android 8.0.0; SM-G955U Build/R16NW) AppleWebKit/537.36 (KHTML, like Gecko) Chrome/87.0.4280.141 Mobile Safari/537.36'\n",
    "}\n",
    "response = requests.get(url, headers=headers) # 요청 헤더 추가\n",
    "print(response.url)"
   ]
  },
  {
   "cell_type": "markdown",
   "id": "4abeb8bd",
   "metadata": {},
   "source": [
    "- 응답 코드 확인\n",
    "- 200 : 정상\n",
    "- 404 : File Not Found 등등"
   ]
  },
  {
   "cell_type": "code",
   "execution_count": 30,
   "id": "2be9da98",
   "metadata": {},
   "outputs": [
    {
     "name": "stdout",
     "output_type": "stream",
     "text": [
      "200\n"
     ]
    }
   ],
   "source": [
    "url = 'https://www.python.org/search/?q=dict&submit='\n",
    "response = requests.get(url)\n",
    "print(response.status_code)"
   ]
  },
  {
   "cell_type": "code",
   "execution_count": 12,
   "id": "989885d8",
   "metadata": {},
   "outputs": [
    {
     "name": "stdout",
     "output_type": "stream",
     "text": [
      "<class 'str'>\n"
     ]
    }
   ],
   "source": [
    "url = 'https://www.python.org/search/?q=dict&submit='\n",
    "response = requests.get(url)\n",
    "print(type(response.text))"
   ]
  },
  {
   "cell_type": "code",
   "execution_count": 14,
   "id": "e015826b",
   "metadata": {},
   "outputs": [
    {
     "name": "stdout",
     "output_type": "stream",
     "text": [
      "<class 'list'>\n"
     ]
    },
    {
     "data": {
      "text/plain": [
       "[{'postId': 70,\n",
       "  'id': 350,\n",
       "  'name': 'eius quia pariatur',\n",
       "  'email': 'Arjun@natalie.ca',\n",
       "  'body': 'eaque rerum tempore distinctio\\nconsequatur fugiat veniam et incidunt ut ut et\\nconsequatur blanditiis magnam\\ndoloremque voluptate ut architecto facere in dolorem et aut'}]"
      ]
     },
     "execution_count": 14,
     "metadata": {},
     "output_type": "execute_result"
    }
   ],
   "source": [
    "url = 'https://jsonplaceholder.typicode.com/comments'\n",
    "params = {\n",
    "    'id':350,\n",
    "}\n",
    "response = requests.get(url,params)\n",
    "print(type(response.json()))\n",
    "response.json()"
   ]
  },
  {
   "cell_type": "code",
   "execution_count": 15,
   "id": "a304c6ca",
   "metadata": {},
   "outputs": [
    {
     "name": "stdout",
     "output_type": "stream",
     "text": [
      "download python-log image\n"
     ]
    }
   ],
   "source": [
    "url = 'https://www.python.org/static/img/python-logo.png'\n",
    "# https://www.python.org/static/img/python-logo.png\n",
    "file_name = './data/byte_of_python2.png'\n",
    "file_down = requests.get(url)\n",
    "with open(file_name, 'wb') as f:\n",
    "    f.write(file_down.content)\n",
    "    print('download python-log image')"
   ]
  }
 ],
 "metadata": {
  "kernelspec": {
   "display_name": "sim-0TBU-pA2-py3.11",
   "language": "python",
   "name": "python3"
  },
  "language_info": {
   "codemirror_mode": {
    "name": "ipython",
    "version": 3
   },
   "file_extension": ".py",
   "mimetype": "text/x-python",
   "name": "python",
   "nbconvert_exporter": "python",
   "pygments_lexer": "ipython3",
   "version": "3.11.11"
  }
 },
 "nbformat": 4,
 "nbformat_minor": 5
}
