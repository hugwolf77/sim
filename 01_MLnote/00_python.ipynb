{
 "cells": [
  {
   "cell_type": "code",
   "execution_count": 12,
   "metadata": {},
   "outputs": [
    {
     "name": "stdout",
     "output_type": "stream",
     "text": [
      "10에 대해서 5를 더합니다. 이것은 1번째 시행입니다.\n",
      "더한 결과는 15 입니다.\n",
      "10에 대해서 15를 더합니다. 이것은 2번째 시행입니다.\n",
      "더한 결과는 25 입니다.\n"
     ]
    }
   ],
   "source": [
    "def make_counter(x):\n",
    "    count = 0 # 외부 변수 (은닉)\n",
    "    local_var = x  # outer_function의 지역 변수 (클로저에 의해 유지됨)\n",
    "    def inner_function(y):\n",
    "        nonlocal count # 외부 변수 count를 수정하기 위해 nonlocal 선언 \n",
    "        print( f\"{x}에 대해서 {y}를 더합니다. 이것은 {count + 1}번째 시행입니다.\")\n",
    "        count += 1 \n",
    "        return print(f\"더한 결과는 {local_var + y} 입니다.\")\n",
    "    return inner_function\n",
    "\n",
    "closure_instance = make_counter(10)\n",
    "result = closure_instance(5)\n",
    "result = closure_instance(15)\n",
    "\n"
   ]
  },
  {
   "cell_type": "code",
   "execution_count": 15,
   "metadata": {},
   "outputs": [
    {
     "name": "stdout",
     "output_type": "stream",
     "text": [
      "{0: 1, 1: 4, 2: 3, 3: 16, 4: 5}\n"
     ]
    }
   ],
   "source": [
    "numbers = [1, 2, 3, 4, 5] \n",
    "squared_even = {index: num ** 2 if num % 2 == 0 else num for index, num in enumerate(numbers)} \n",
    "print(squared_even)"
   ]
  },
  {
   "cell_type": "code",
   "execution_count": 19,
   "metadata": {},
   "outputs": [
    {
     "name": "stdout",
     "output_type": "stream",
     "text": [
      "왈왈!--야옹!--왈왈!--야옹!--"
     ]
    }
   ],
   "source": [
    "class Animal: \n",
    "\tdef speak(self): \n",
    "\t\tpass \n",
    "\n",
    "class Dog(Animal): \n",
    "\tdef speak(self): \n",
    "\t\tprint(\"왈왈!\", end='--') \n",
    "\t\t\n",
    "class Cat(Animal): \n",
    "\tdef speak(self): \n",
    "\t\tprint(\"야옹!\", end='--') \n",
    "\n",
    "# 동물 객체 생성 \n",
    "animals = [Dog(), Cat(), Dog(), Cat()] \n",
    "\n",
    "# 모든 동물 객체에게 speak() 메서드 호출 \n",
    "for animal in animals: \n",
    "\tanimal.speak()"
   ]
  }
 ],
 "metadata": {
  "kernelspec": {
   "display_name": "sim-0TBU-pA2-py3.11",
   "language": "python",
   "name": "python3"
  },
  "language_info": {
   "codemirror_mode": {
    "name": "ipython",
    "version": 3
   },
   "file_extension": ".py",
   "mimetype": "text/x-python",
   "name": "python",
   "nbconvert_exporter": "python",
   "pygments_lexer": "ipython3",
   "version": "3.11.11"
  }
 },
 "nbformat": 4,
 "nbformat_minor": 2
}
